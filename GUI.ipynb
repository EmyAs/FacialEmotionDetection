{
 "cells": [
  {
   "cell_type": "code",
   "execution_count": 17,
   "metadata": {},
   "outputs": [],
   "source": [
    "import tkinter as tk\n",
    "from tkinter import *\n",
    "from tkinter import font\n",
    "from PIL import ImageTk, Image\n",
    "from tkinter import filedialog\n",
    "import os\n",
    "import numpy as np\n",
    "\n",
    "import tensorflow as tf"
   ]
  },
  {
   "cell_type": "code",
   "execution_count": 18,
   "metadata": {},
   "outputs": [],
   "source": [
    "new_model = tf.keras.models.load_model('model.h5')"
   ]
  },
  {
   "cell_type": "code",
   "execution_count": 19,
   "metadata": {},
   "outputs": [],
   "source": [
    "import matplotlib.pyplot as plt\n",
    "def emotion_analysis(emotions):\n",
    "    objects = ['happy', 'sad', 'neutral']\n",
    "    y_pos = np.arange(len(objects))\n",
    "    plt.bar(y_pos, emotions, align='center', alpha=0.9)\n",
    "    plt.tick_params(axis='x', which='both', pad=10,width=4,length=10)\n",
    "    plt.xticks(y_pos, objects)\n",
    "    plt.ylabel('percentage')\n",
    "    plt.title('emotion')"
   ]
  },
  {
   "cell_type": "code",
   "execution_count": 20,
   "metadata": {},
   "outputs": [
    {
     "name": "stdout",
     "output_type": "stream",
     "text": [
      "[0 1 2]\n"
     ]
    }
   ],
   "source": [
    "mapper = {\n",
    "    0: \"happy\",\n",
    "    1: \"sad\",\n",
    "    2: \"neutral\",\n",
    "}\n",
    "\n",
    "objects = ('happy', 'sad', 'neutral')\n",
    "y_pos = np.arange(len(objects))\n",
    "print(y_pos)"
   ]
  },
  {
   "cell_type": "code",
   "execution_count": 21,
   "metadata": {},
   "outputs": [],
   "source": [
    "root = tk.Tk()\n",
    "root.resizable(0, 0) \n",
    "root.title('Facial Emotion Detection using CNN')\n",
    "\n",
    "HEIGHT=500\n",
    "WIDTH=500"
   ]
  },
  {
   "cell_type": "code",
   "execution_count": 22,
   "metadata": {},
   "outputs": [],
   "source": [
    "def openfn():\n",
    "    filename = filedialog.askopenfilename(title='open')\n",
    "    return filename\n"
   ]
  },
  {
   "cell_type": "code",
   "execution_count": 23,
   "metadata": {},
   "outputs": [],
   "source": [
    "from skimage import io\n",
    "from keras.preprocessing import image\n",
    "from keras.preprocessing.image import ImageDataGenerator\n",
    "def emotion_recognition(path):\n",
    "    img = image.load_img(path, color_mode = \"grayscale\", target_size=(48, 48))\n",
    "    x = image.img_to_array(img)\n",
    "    x = np.expand_dims(x, axis = 0)\n",
    "\n",
    "    x /= 255\n",
    "\n",
    "    custom = new_model.predict(x)\n",
    "\n",
    "    x = np.array(x, 'float32')\n",
    "    x = x.reshape([48, 48]);\n",
    "\n",
    "\n",
    "    m=0.000000000000000000001\n",
    "    a=custom[0]\n",
    "    for i in range(0,len(a)):\n",
    "        if a[i]>m:\n",
    "            m=a[i]\n",
    "            ind=i\n",
    "            \n",
    "    if ind == 0:\n",
    "        rst = 'Facial Emotion detected is : Happy'\n",
    "    if ind == 1:\n",
    "        rst = 'Facial Emotion detected is: sad'\n",
    "    if ind == 2:\n",
    "        rst = 'Facial Emotion detected is: neutral'  \n",
    "    return rst\n",
    "        \n"
   ]
  },
  {
   "cell_type": "code",
   "execution_count": 24,
   "metadata": {
    "scrolled": true
   },
   "outputs": [],
   "source": [
    "l_image=[]\n",
    "def l_open_img():\n",
    "    y = openfn()\n",
    "    img = Image.open(y)\n",
    "    img = img.resize((200, 200), Image.ANTIALIAS)\n",
    "    img = ImageTk.PhotoImage(img)\n",
    "    panel = Label(frame2, image=img)\n",
    "    panel.image = img\n",
    "    panel.pack()\n",
    "    \n",
    "    l_image.append(y)\n",
    "    \n",
    "def images():\n",
    "    l_x = l_image \n",
    "    l_x = ''.join(map(str, l_x))\n",
    "   \n",
    "    \n",
    "   \n",
    "    print_result.configure(text=emotion_recognition(l_x))\n",
    "    \n",
    "    \n",
    "#canvas------------------------------------------------------------------------\n",
    "canvas =tk.Canvas(root,height=HEIGHT, width=WIDTH)\n",
    "img = PhotoImage(file=\"GUI_images/smilies.gif\")\n",
    "img = img.subsample(7) \n",
    "canvas.create_image(46,6, anchor=NW, image=img)  \n",
    "canvas.pack()\n",
    "\n",
    "title = Label(root,text=\"Facial Emotion Detection\", font=(\"Helvetica\", 20))\n",
    "title.place(x=130, y=16)\n",
    "\n",
    "\n",
    "#frame 1---------------------------------------------------------\n",
    "frame = tk.Frame(root, highlightbackground=\"black\", \n",
    "                 highlightcolor=\"gray\", \n",
    "                 highlightthickness=1.5, \n",
    "                 bd=10)\n",
    "\n",
    "frame.place(x=250, y=60 ,\n",
    "            width=400, height=300, \n",
    "            anchor='n')\n",
    "\n",
    "#frame 2-----------------------------------------------------------\n",
    "frame2 = tk.Frame(frame, highlightbackground=\"gray\", \n",
    "                  highlightcolor=\"white\", \n",
    "                  highlightthickness=1.5, \n",
    "                  bd=10)\n",
    "frame2.place(x=190,y=56, width=340, \n",
    "             height=200, \n",
    "             anchor='n')\n",
    "\n",
    "#frame 3-----------------------------------------------------------\n",
    "frame3 = tk.Frame(root, highlightbackground=\"black\", \n",
    "                  highlightcolor=\"white\", \n",
    "                  highlightthickness=1.5, \n",
    "                  bd=10)\n",
    "\n",
    "frame3.place(x=250,y=370, width=400, \n",
    "             height=100, \n",
    "             anchor='n')\n",
    "#btn1 ----------------------------------------------------------------------\n",
    "btn = Button(frame, text='Load the image',height=2, width=20, bg='#008CBA', fg='white', command=l_open_img)\n",
    "btn.place(x=90, anchor='n')\n",
    "btn.config(font=('Helvetica','10','bold'))\n",
    "match_btn = Button(frame, text='Recognize emotion',height=2, width=20, bg='#008CBA', fg='white', command=images)\n",
    "match_btn.place(x=290, anchor='n')\n",
    "match_btn.config(font=('Helvetica','10','bold'))\n",
    "\n",
    "#print result\n",
    "print_result = Label(frame3, text='', font=(\"Helvetica\", 12,\"bold\"),fg='#8B0000') \n",
    "print_result.place(x=150,y=30,anchor='center')\n",
    "\n",
    "root.mainloop()"
   ]
  },
  {
   "cell_type": "code",
   "execution_count": null,
   "metadata": {},
   "outputs": [],
   "source": []
  }
 ],
 "metadata": {
  "kernelspec": {
   "display_name": "Python 3",
   "language": "python",
   "name": "python3"
  },
  "language_info": {
   "codemirror_mode": {
    "name": "ipython",
    "version": 3
   },
   "file_extension": ".py",
   "mimetype": "text/x-python",
   "name": "python",
   "nbconvert_exporter": "python",
   "pygments_lexer": "ipython3",
   "version": "3.7.4"
  }
 },
 "nbformat": 4,
 "nbformat_minor": 2
}
